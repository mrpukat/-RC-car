{
  "cells": [
    {
      "cell_type": "markdown",
      "metadata": {
        "id": "view-in-github",
        "colab_type": "text"
      },
      "source": [
        "<a href=\"https://colab.research.google.com/github/mrpukat/RC-car/blob/main/l1/TM-L1.ipynb\" target=\"_parent\"><img src=\"https://colab.research.google.com/assets/colab-badge.svg\" alt=\"Open In Colab\"/></a>"
      ]
    },
    {
      "cell_type": "markdown",
      "metadata": {
        "id": "6n3Sxt9fs5Tq"
      },
      "source": [
        "# L1: Information retrieval"
      ]
    },
    {
      "cell_type": "markdown",
      "metadata": {
        "id": "J30m8diIs5Tr"
      },
      "source": [
        "In this lab you will apply basic techniques from information retrieval to implement the core of a minimalistic search engine. The data for this lab consists of a collection of app descriptions scraped from the [Google Play Store](https://play.google.com/store/apps?hl=en). From this collection, your search engine should retrieve those apps whose descriptions best match a given query under the vector space model."
      ]
    },
    {
      "cell_type": "markdown",
      "metadata": {
        "id": "b7UhR2Ets5Tr"
      },
      "source": [
        "**⚠️ Make sure that you have read the [Rules for hand-in assignments](https://www.ida.liu.se/~TDDE16/exam.en.shtml#handins) and the [Policy on cheating and plagiarism](https://www.ida.liu.se/~TDDE16/exam.en.shtml#cheating) before starting with this lab.** "
      ]
    },
    {
      "cell_type": "markdown",
      "metadata": {
        "id": "t6x27ZEXs5Tr"
      },
      "source": [
        "## Data set"
      ]
    },
    {
      "cell_type": "markdown",
      "metadata": {
        "id": "znbGpITRs5Tr"
      },
      "source": [
        "The app descriptions come in the form of a compressed [JSON](https://en.wikipedia.org/wiki/JSON) file. Start by loading this file into a [Pandas](https://pandas.pydata.org) [DataFrame](https://pandas.pydata.org/pandas-docs/stable/getting_started/dsintro.html#dataframe)."
      ]
    },
    {
      "cell_type": "code",
      "execution_count": 8,
      "metadata": {
        "id": "kpYX6L7bs5Tr"
      },
      "outputs": [],
      "source": [
        "import bz2\n",
        "import pandas as pd\n",
        "\n",
        "with bz2.open('app-descriptions.json.bz2') as source:\n",
        "    df = pd.read_json(source)"
      ]
    },
    {
      "cell_type": "markdown",
      "metadata": {
        "id": "Uu8sR9ODs5Ts"
      },
      "source": [
        "In Pandas, a DataFrame is a table with indexed rows and labelled columns of potentially different types. You can access data in a DataFrame in various ways, including by row and column. To give an example, the code in the next cell shows rows 200–204:"
      ]
    },
    {
      "cell_type": "code",
      "execution_count": 9,
      "metadata": {
        "id": "MKv505S5s5Ts",
        "outputId": "11fbc70a-9ebf-47b9-f71d-c43957038cd2",
        "colab": {
          "base_uri": "https://localhost:8080/",
          "height": 206
        }
      },
      "outputs": [
        {
          "output_type": "execute_result",
          "data": {
            "text/plain": [
              "                               name  \\\n",
              "200  Brick Breaker Star: Space King   \n",
              "201      Brick Classic - Brick Game   \n",
              "202     Bricks Breaker - Glow Balls   \n",
              "203            Bricks Breaker Quest   \n",
              "204             Brothers in Arms® 3   \n",
              "\n",
              "                                           description  \n",
              "200  Introducing the best Brick Breaker game that e...  \n",
              "201  Classic Brick Game!\\n\\nBrick Classic is a popu...  \n",
              "202  Bricks Breaker - Glow Balls is a addictive and...  \n",
              "203  How to play\\n- The ball flies to wherever you ...  \n",
              "204  Fight brave soldiers from around the globe on ...  "
            ],
            "text/html": [
              "\n",
              "  <div id=\"df-70bd0f7b-eaec-46d1-b164-4edf9b19a4db\">\n",
              "    <div class=\"colab-df-container\">\n",
              "      <div>\n",
              "<style scoped>\n",
              "    .dataframe tbody tr th:only-of-type {\n",
              "        vertical-align: middle;\n",
              "    }\n",
              "\n",
              "    .dataframe tbody tr th {\n",
              "        vertical-align: top;\n",
              "    }\n",
              "\n",
              "    .dataframe thead th {\n",
              "        text-align: right;\n",
              "    }\n",
              "</style>\n",
              "<table border=\"1\" class=\"dataframe\">\n",
              "  <thead>\n",
              "    <tr style=\"text-align: right;\">\n",
              "      <th></th>\n",
              "      <th>name</th>\n",
              "      <th>description</th>\n",
              "    </tr>\n",
              "  </thead>\n",
              "  <tbody>\n",
              "    <tr>\n",
              "      <th>200</th>\n",
              "      <td>Brick Breaker Star: Space King</td>\n",
              "      <td>Introducing the best Brick Breaker game that e...</td>\n",
              "    </tr>\n",
              "    <tr>\n",
              "      <th>201</th>\n",
              "      <td>Brick Classic - Brick Game</td>\n",
              "      <td>Classic Brick Game!\\n\\nBrick Classic is a popu...</td>\n",
              "    </tr>\n",
              "    <tr>\n",
              "      <th>202</th>\n",
              "      <td>Bricks Breaker - Glow Balls</td>\n",
              "      <td>Bricks Breaker - Glow Balls is a addictive and...</td>\n",
              "    </tr>\n",
              "    <tr>\n",
              "      <th>203</th>\n",
              "      <td>Bricks Breaker Quest</td>\n",
              "      <td>How to play\\n- The ball flies to wherever you ...</td>\n",
              "    </tr>\n",
              "    <tr>\n",
              "      <th>204</th>\n",
              "      <td>Brothers in Arms® 3</td>\n",
              "      <td>Fight brave soldiers from around the globe on ...</td>\n",
              "    </tr>\n",
              "  </tbody>\n",
              "</table>\n",
              "</div>\n",
              "      <button class=\"colab-df-convert\" onclick=\"convertToInteractive('df-70bd0f7b-eaec-46d1-b164-4edf9b19a4db')\"\n",
              "              title=\"Convert this dataframe to an interactive table.\"\n",
              "              style=\"display:none;\">\n",
              "        \n",
              "  <svg xmlns=\"http://www.w3.org/2000/svg\" height=\"24px\"viewBox=\"0 0 24 24\"\n",
              "       width=\"24px\">\n",
              "    <path d=\"M0 0h24v24H0V0z\" fill=\"none\"/>\n",
              "    <path d=\"M18.56 5.44l.94 2.06.94-2.06 2.06-.94-2.06-.94-.94-2.06-.94 2.06-2.06.94zm-11 1L8.5 8.5l.94-2.06 2.06-.94-2.06-.94L8.5 2.5l-.94 2.06-2.06.94zm10 10l.94 2.06.94-2.06 2.06-.94-2.06-.94-.94-2.06-.94 2.06-2.06.94z\"/><path d=\"M17.41 7.96l-1.37-1.37c-.4-.4-.92-.59-1.43-.59-.52 0-1.04.2-1.43.59L10.3 9.45l-7.72 7.72c-.78.78-.78 2.05 0 2.83L4 21.41c.39.39.9.59 1.41.59.51 0 1.02-.2 1.41-.59l7.78-7.78 2.81-2.81c.8-.78.8-2.07 0-2.86zM5.41 20L4 18.59l7.72-7.72 1.47 1.35L5.41 20z\"/>\n",
              "  </svg>\n",
              "      </button>\n",
              "      \n",
              "  <style>\n",
              "    .colab-df-container {\n",
              "      display:flex;\n",
              "      flex-wrap:wrap;\n",
              "      gap: 12px;\n",
              "    }\n",
              "\n",
              "    .colab-df-convert {\n",
              "      background-color: #E8F0FE;\n",
              "      border: none;\n",
              "      border-radius: 50%;\n",
              "      cursor: pointer;\n",
              "      display: none;\n",
              "      fill: #1967D2;\n",
              "      height: 32px;\n",
              "      padding: 0 0 0 0;\n",
              "      width: 32px;\n",
              "    }\n",
              "\n",
              "    .colab-df-convert:hover {\n",
              "      background-color: #E2EBFA;\n",
              "      box-shadow: 0px 1px 2px rgba(60, 64, 67, 0.3), 0px 1px 3px 1px rgba(60, 64, 67, 0.15);\n",
              "      fill: #174EA6;\n",
              "    }\n",
              "\n",
              "    [theme=dark] .colab-df-convert {\n",
              "      background-color: #3B4455;\n",
              "      fill: #D2E3FC;\n",
              "    }\n",
              "\n",
              "    [theme=dark] .colab-df-convert:hover {\n",
              "      background-color: #434B5C;\n",
              "      box-shadow: 0px 1px 3px 1px rgba(0, 0, 0, 0.15);\n",
              "      filter: drop-shadow(0px 1px 2px rgba(0, 0, 0, 0.3));\n",
              "      fill: #FFFFFF;\n",
              "    }\n",
              "  </style>\n",
              "\n",
              "      <script>\n",
              "        const buttonEl =\n",
              "          document.querySelector('#df-70bd0f7b-eaec-46d1-b164-4edf9b19a4db button.colab-df-convert');\n",
              "        buttonEl.style.display =\n",
              "          google.colab.kernel.accessAllowed ? 'block' : 'none';\n",
              "\n",
              "        async function convertToInteractive(key) {\n",
              "          const element = document.querySelector('#df-70bd0f7b-eaec-46d1-b164-4edf9b19a4db');\n",
              "          const dataTable =\n",
              "            await google.colab.kernel.invokeFunction('convertToInteractive',\n",
              "                                                     [key], {});\n",
              "          if (!dataTable) return;\n",
              "\n",
              "          const docLinkHtml = 'Like what you see? Visit the ' +\n",
              "            '<a target=\"_blank\" href=https://colab.research.google.com/notebooks/data_table.ipynb>data table notebook</a>'\n",
              "            + ' to learn more about interactive tables.';\n",
              "          element.innerHTML = '';\n",
              "          dataTable['output_type'] = 'display_data';\n",
              "          await google.colab.output.renderOutput(dataTable, element);\n",
              "          const docLink = document.createElement('div');\n",
              "          docLink.innerHTML = docLinkHtml;\n",
              "          element.appendChild(docLink);\n",
              "        }\n",
              "      </script>\n",
              "    </div>\n",
              "  </div>\n",
              "  "
            ]
          },
          "metadata": {},
          "execution_count": 9
        }
      ],
      "source": [
        "df[200:205]"
      ]
    },
    {
      "cell_type": "markdown",
      "metadata": {
        "id": "CrM6KjKos5Ts"
      },
      "source": [
        "As you can see, there are two labelled columns: `name` (the name of the app) and `description` (a textual description). The code in the next cell shows how to access fields from the description column."
      ]
    },
    {
      "cell_type": "code",
      "execution_count": 10,
      "metadata": {
        "id": "9nHnWjdVs5Ts",
        "outputId": "abc51bc1-3466-4cee-c8e7-31d5403cd561",
        "colab": {
          "base_uri": "https://localhost:8080/"
        }
      },
      "outputs": [
        {
          "output_type": "execute_result",
          "data": {
            "text/plain": [
              "200    Introducing the best Brick Breaker game that e...\n",
              "201    Classic Brick Game!\\n\\nBrick Classic is a popu...\n",
              "202    Bricks Breaker - Glow Balls is a addictive and...\n",
              "203    How to play\\n- The ball flies to wherever you ...\n",
              "204    Fight brave soldiers from around the globe on ...\n",
              "Name: description, dtype: object"
            ]
          },
          "metadata": {},
          "execution_count": 10
        }
      ],
      "source": [
        "df['description'][200:205]"
      ]
    },
    {
      "cell_type": "markdown",
      "metadata": {
        "id": "TtRNk2-Ds5Tt"
      },
      "source": [
        "## Problem 1: Preprocessing"
      ]
    },
    {
      "cell_type": "markdown",
      "metadata": {
        "id": "GH18sGeys5Tt"
      },
      "source": [
        "Your first task is to implement a preprocessor for your search engine. In the vector space model, *preprocessing* refers to any transformation applied to a text before vectorisation. Here you can restrict yourself to a simple type of preprocessing: tokenisation, stop word removal, and lemmatisation.\n",
        "\n",
        "To implement your preprocessor, you can use [spaCy](https://spacy.io). Make sure to read the [Linguistic annotations](https://spacy.io/usage/spacy-101#annotations) section of the spaCy&nbsp;101; that section contains all the information you need for this problem (and more).\n",
        "\n",
        "Implement your preprocessor by completing the skeleton code in the next cell, adding additional code as you deem necessary."
      ]
    },
    {
      "cell_type": "code",
      "execution_count": 11,
      "metadata": {
        "id": "GHK32n4Us5Tt"
      },
      "outputs": [],
      "source": [
        "import spacy\n",
        "\n",
        "nlp = spacy.load(\"en_core_web_sm\")\n",
        "\n",
        "def preprocess(text):\n",
        "    return [w.lemma_ for w in nlp(text) if not w.is_stop and w.is_alpha]"
      ]
    },
    {
      "cell_type": "markdown",
      "metadata": {
        "id": "1bnRabdus5Tt"
      },
      "source": [
        "Your implementation should conform to the following specification:\n",
        "\n",
        "<strong>preprocess</strong> (<em>text</em>)\n",
        "\n",
        "> Preprocesses the given text by tokenising it, removing any stop words, replacing each remaining token with its lemma (base form), and discarding all lemmas that contain non-alphabetical characters. Returns the list of remaining lemmas (represented as strings).\n",
        "\n",
        "To speed up the preprocessing, you should disable loading those spaCy components you do not need, such as the parser, and named entity recogniser. See [here](https://spacy.io/usage/processing-pipelines#disabling) for more information about this."
      ]
    },
    {
      "cell_type": "markdown",
      "metadata": {
        "id": "Axp3nPgQs5Tt"
      },
      "source": [
        "### 🤞 Test your code\n",
        "\n",
        "Test your implementation by running the following cell:"
      ]
    },
    {
      "cell_type": "code",
      "execution_count": 12,
      "metadata": {
        "id": "JlmgdlBls5Tt",
        "outputId": "dfcc238c-0864-4b6f-a2fd-7b4a523b2326",
        "colab": {
          "base_uri": "https://localhost:8080/"
        }
      },
      "outputs": [
        {
          "output_type": "execute_result",
          "data": {
            "text/plain": [
              "['Apple', 'look', 'buy', 'startup', 'billion']"
            ]
          },
          "metadata": {},
          "execution_count": 12
        }
      ],
      "source": [
        "preprocess('Apple is looking at buying U.K. startup for $1 billion')"
      ]
    },
    {
      "cell_type": "markdown",
      "metadata": {
        "id": "CErmC4QCs5Tt"
      },
      "source": [
        "This should give the following output:\n"
      ]
    },
    {
      "cell_type": "raw",
      "metadata": {
        "id": "sia1MF5Ks5Tt"
      },
      "source": [
        "['Apple', 'look', 'buy', 'startup', 'billion']"
      ]
    },
    {
      "cell_type": "markdown",
      "metadata": {
        "id": "rgGZj2zes5Tt"
      },
      "source": [
        "## Problem 2: Vectorising"
      ]
    },
    {
      "cell_type": "markdown",
      "metadata": {
        "id": "0SJbp4Tks5Tu"
      },
      "source": [
        "Your next task is to vectorise the data – and more specifically, to map each app description to a tf–idf vector. For this you can use the [TfidfVectorizer](https://scikit-learn.org/stable/modules/generated/sklearn.feature_extraction.text.TfidfVectorizer.html) class from [scikit-learn](https://scikit-learn.org/stable/). Make sure to specify your preprocessor from the previous problem as the `tokenizer` &ndash; not the `preprocessor`! &ndash; for the vectoriser. (In scikit-learn terminology, the `preprocessor` handles string-level preprocessing.)"
      ]
    },
    {
      "cell_type": "code",
      "execution_count": null,
      "metadata": {
        "id": "J0zRsho6s5Tu"
      },
      "outputs": [],
      "source": [
        "import numpy as np\n",
        "\n",
        "# TODO: Replace the next line with your own code.\n",
        "X = np.zeros((len(df), 1))"
      ]
    },
    {
      "cell_type": "markdown",
      "metadata": {
        "id": "b-au1Hiys5Tu"
      },
      "source": [
        "### 🤞 Test your code\n",
        "\n",
        "Test your implementation by running the following cell:"
      ]
    },
    {
      "cell_type": "code",
      "execution_count": null,
      "metadata": {
        "id": "dTB8uTJYs5Tu"
      },
      "outputs": [],
      "source": [
        "X.shape"
      ]
    },
    {
      "cell_type": "markdown",
      "metadata": {
        "id": "IVnvzyQds5Tu"
      },
      "source": [
        "This should show the dimensions of the matrix `X` to be around 1614 × 21389. (The number of rows should be exactly 1614. The number of columns may differ from that given here depending on the version of spaCy and the version of the language model used, as well as the pre-processing.)"
      ]
    },
    {
      "cell_type": "markdown",
      "metadata": {
        "id": "Fz2tyU4Vs5Tu"
      },
      "source": [
        "## Problem 3: Retrieving"
      ]
    },
    {
      "cell_type": "markdown",
      "metadata": {
        "id": "27Y6pkMRs5Tu"
      },
      "source": [
        "To complete the search engine, your last task is to write a function that returns the most relevant app descriptions for a given query. An easy way to solve this task is to use scikit-learn&rsquo;s [NearestNeighbors](https://scikit-learn.org/stable/modules/generated/sklearn.neighbors.NearestNeighbors.html) class. That class implements unsupervised nearest neighbours learning and allows you to easily find a predefined number of app descriptions whose vector representations are closest to the query vector."
      ]
    },
    {
      "cell_type": "code",
      "execution_count": null,
      "metadata": {
        "id": "DXb4vk90s5Tu"
      },
      "outputs": [],
      "source": [
        "def search(query):\n",
        "    # TODO: Replace the next line with your own code.\n",
        "    return df.iloc[:10]"
      ]
    },
    {
      "cell_type": "markdown",
      "metadata": {
        "id": "04tI0nXTs5Tu"
      },
      "source": [
        "Your implementation should conform to the following specification:\n",
        "\n",
        "<strong>search</strong> (<em>query</em>)\n",
        "\n",
        "> Returns the 10 app descriptions most similar (in terms of cosine similarity) to the given query as a Pandas DataFrame."
      ]
    },
    {
      "cell_type": "markdown",
      "metadata": {
        "id": "jJx5RdRws5Tu"
      },
      "source": [
        "### 🤞 Test your code\n",
        "\n",
        "Test your implementation by running the following cell:"
      ]
    },
    {
      "cell_type": "code",
      "execution_count": null,
      "metadata": {
        "id": "lE5DYx-Qs5Tu"
      },
      "outputs": [],
      "source": [
        "search('dodge trains')"
      ]
    },
    {
      "cell_type": "markdown",
      "metadata": {
        "id": "entNOxmes5Tu"
      },
      "source": [
        "The top hit in the list should be *Subway Surfers*."
      ]
    },
    {
      "cell_type": "markdown",
      "metadata": {
        "id": "OWTbRzxbs5Tu"
      },
      "source": [
        "## Problem 4: Finding terms with low/high idf"
      ]
    },
    {
      "cell_type": "markdown",
      "metadata": {
        "id": "6CYJPpOMs5Tv"
      },
      "source": [
        "Recall that the inverse document frequency (idf) of a term is the lower, the more documents from a given collection the term appears in. To get a better understanding for this concept, your next task is to write code to find out which terms from the app descriptions have the lowest/highest idf.\n",
        "\n",
        "Start by sorting the terms in increasing order of idf, breaking ties by falling back on alphabetic order."
      ]
    },
    {
      "cell_type": "code",
      "execution_count": null,
      "metadata": {
        "id": "DqFgy7bLs5Tv"
      },
      "outputs": [],
      "source": [
        "# TODO: Replace the next line with your own code.\n",
        "terms = []"
      ]
    },
    {
      "cell_type": "markdown",
      "metadata": {
        "id": "SzCi7RYDs5Tv"
      },
      "source": [
        "Now, print the 10 terms with the lowest/highest idf. How do you explain the results?"
      ]
    },
    {
      "cell_type": "code",
      "execution_count": null,
      "metadata": {
        "scrolled": true,
        "id": "6NxntNBQs5Tv"
      },
      "outputs": [],
      "source": [
        "print(terms[:10])"
      ]
    },
    {
      "cell_type": "markdown",
      "metadata": {
        "id": "_TttojUGs5Tv"
      },
      "source": [
        "## Problem 5: Keyword extraction"
      ]
    },
    {
      "cell_type": "markdown",
      "metadata": {
        "id": "GqwwXYlQs5Tv"
      },
      "source": [
        "We often want to extract salient keywords from a document. A simple method is to pick the $k$ terms with the highest tf–idf value. Your last task in this lab is to implement this method. More specifically, we ask you to implement a function `keywords` that extracts keywords from a text."
      ]
    },
    {
      "cell_type": "code",
      "execution_count": null,
      "metadata": {
        "id": "xUAg1Odzs5Tv"
      },
      "outputs": [],
      "source": [
        "def keywords(text, n=10):\n",
        "    # TODO: Replace the next line with your own code.\n",
        "    return []"
      ]
    },
    {
      "cell_type": "markdown",
      "metadata": {
        "id": "vAWrdIp3s5Tv"
      },
      "source": [
        "Your implementation should conform to the following specification:\n",
        "\n",
        "<strong>keywords</strong> (<em>text</em>, <em>n</em> = 10)\n",
        "\n",
        "> Returns a list with the $n$ (default value: 10) most salient keywords from the specified text, as measured by their tf–idf value relative to the collection of app descriptions."
      ]
    },
    {
      "cell_type": "markdown",
      "metadata": {
        "id": "QuhuMkMLs5Tv"
      },
      "source": [
        "### 🤞 Test your code\n",
        "\n",
        "Test your implementation by running the following cell:"
      ]
    },
    {
      "cell_type": "code",
      "execution_count": null,
      "metadata": {
        "id": "1xBzcgNes5Tv"
      },
      "outputs": [],
      "source": [
        "print(keywords(df['description'][1428]))"
      ]
    },
    {
      "cell_type": "markdown",
      "metadata": {
        "id": "R6cAxDFPs5Tv"
      },
      "source": [
        "This should give output similar to the following:"
      ]
    },
    {
      "cell_type": "raw",
      "metadata": {
        "id": "JliI7mqhs5Tv"
      },
      "source": [
        "['train', 'railway', 'railroad', 'rail', 'chaos', 'crash', 'tram', 'timetable', 're', 'overcast']"
      ]
    },
    {
      "cell_type": "markdown",
      "metadata": {
        "id": "WpNQQ7PUs5Tv"
      },
      "source": [
        "The exact output may differ slightly depending on the strategy used to break ties."
      ]
    },
    {
      "cell_type": "markdown",
      "metadata": {
        "id": "s4Hj_TWds5Tv"
      },
      "source": [
        "## Reflection questions"
      ]
    },
    {
      "cell_type": "markdown",
      "metadata": {
        "id": "MGu5jh6gs5Tv"
      },
      "source": [
        "The following reflection questions will help you prepare for the diagnostic test. Answer each of them in the form of a short text and put your answers in the cell below. You will get feedback on your answers from your lab assistant."
      ]
    },
    {
      "cell_type": "markdown",
      "metadata": {
        "id": "K9yGKY0ns5Tv"
      },
      "source": [
        "**RQ 1.1:** Why do we remove common stop words and lemmatise the text? Can you give an example of a scenario where, in addition to common stopwords, there are also *application-specific* stop words?\n",
        "\n",
        "**RQ 1.2:** In Problem&nbsp;2, what do the dimensions of the matrix `X` correspond to? This matrix gives rise to different types of *representations*. Explain what these representations are. What information from the data is preserved, what information is lost in these representations?\n",
        "\n",
        "**RQ 1.3:** What does it mean that a term has a high/low idf value? Based on this, how can we use idf to automatically identify stop words? Why do you think is idf not used as a term weighting on its own, but always in connection with term frequency (tf–idf)?"
      ]
    },
    {
      "cell_type": "markdown",
      "metadata": {
        "id": "ZtFrk-pes5Tw"
      },
      "source": [
        "*TODO: Enter your answers here*"
      ]
    },
    {
      "cell_type": "markdown",
      "metadata": {
        "id": "SE-a7sDCs5Tw"
      },
      "source": [
        "**Congratulations on finishing L1! 👍**"
      ]
    }
  ],
  "metadata": {
    "kernelspec": {
      "display_name": "Python 3 (ipykernel)",
      "language": "python",
      "name": "python3"
    },
    "language_info": {
      "codemirror_mode": {
        "name": "ipython",
        "version": 3
      },
      "file_extension": ".py",
      "mimetype": "text/x-python",
      "name": "python",
      "nbconvert_exporter": "python",
      "pygments_lexer": "ipython3",
      "version": "3.10.4"
    },
    "colab": {
      "provenance": [],
      "include_colab_link": true
    }
  },
  "nbformat": 4,
  "nbformat_minor": 0
}